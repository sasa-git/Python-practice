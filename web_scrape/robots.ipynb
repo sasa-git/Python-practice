{
 "nbformat": 4,
 "nbformat_minor": 2,
 "metadata": {
  "language_info": {
   "name": "python",
   "codemirror_mode": {
    "name": "ipython",
    "version": 3
   },
   "version": "3.7.4"
  },
  "orig_nbformat": 2,
  "file_extension": ".py",
  "mimetype": "text/x-python",
  "name": "python",
  "npconvert_exporter": "python",
  "pygments_lexer": "ipython3",
  "version": 3
 },
 "cells": [
  {
   "cell_type": "code",
   "execution_count": 193,
   "metadata": {},
   "outputs": [
    {
     "data": {
      "text/plain": "True"
     },
     "execution_count": 193,
     "metadata": {},
     "output_type": "execute_result"
    }
   ],
   "source": [
    "from reppy.robots import Robots\n",
    "\n",
    "robots = Robots.fetch(\"https://allabout.co.jp/robots.txt\")\n",
    "agent = robots.agent(\"*\")\n",
    "agent.allowed(\"https://allabout.co.jp/r_finance/\")"
   ]
  },
  {
   "cell_type": "code",
   "execution_count": 194,
   "metadata": {},
   "outputs": [
    {
     "data": {
      "text/plain": "False"
     },
     "execution_count": 194,
     "metadata": {},
     "output_type": "execute_result"
    }
   ],
   "source": [
    "from reppy.robots import Robots\n",
    "\n",
    "robots = Robots.fetch(\"https://allabout.co.jp/robots.txt\")\n",
    "agent = robots.agent(\"*\")\n",
    "agent.allowed(\"https://allabout.co.jp/ranking/daily/\")"
   ]
  },
  {
   "cell_type": "code",
   "execution_count": 195,
   "metadata": {},
   "outputs": [
    {
     "data": {
      "text/plain": "10.0"
     },
     "execution_count": 195,
     "metadata": {},
     "output_type": "execute_result"
    }
   ],
   "source": [
    "from reppy.robots import Robots\n",
    "\n",
    "robots = Robots.fetch(\"https://allabout.co.jp/robots.txt\")\n",
    "agent = robots.agent(\"bingbot\")\n",
    "agent.delay"
   ]
  },
  {
   "cell_type": "code",
   "execution_count": 196,
   "metadata": {},
   "outputs": [
    {
     "data": {
      "text/plain": "'{\\n  \"user-agent\": \"python-requests/2.22.0\"\\n}\\n'"
     },
     "execution_count": 196,
     "metadata": {},
     "output_type": "execute_result"
    }
   ],
   "source": [
    "import requests\n",
    "\n",
    "url = \"http://httpbin.org/user-agent\"\n",
    "requests.get(url).text"
   ]
  },
  {
   "cell_type": "code",
   "execution_count": 197,
   "metadata": {},
   "outputs": [
    {
     "data": {
      "text/plain": "'{\\n  \"user-agent\": \"Mozilla/5.0 (Macintosh; Intel Mac OS X 10_15_2) AppleWebKit/537.36 (KHTML, like Gecko) Chrome/79.0.3945.88 Safari/537.36\"\\n}\\n'"
     },
     "execution_count": 197,
     "metadata": {},
     "output_type": "execute_result"
    }
   ],
   "source": [
    "import requests\n",
    "\n",
    "url = \"http://httpbin.org/user-agent\"\n",
    "user_agent = \"Mozilla/5.0 (Macintosh; Intel Mac OS X 10_15_2) AppleWebKit/537.36 (KHTML, like Gecko) Chrome/79.0.3945.88 Safari/537.36\"\n",
    "headers = {\n",
    "    \"User-Agent\": user_agent\n",
    "}\n",
    "requests.get(url, headers = headers).text"
   ]
  },
  {
   "cell_type": "code",
   "execution_count": 198,
   "metadata": {},
   "outputs": [
    {
     "data": {
      "text/plain": "'{\\n  \"user-agent\": \"Mozilla/5.0 (iPhone; CPU iPhone OS 12_0 like Mac OS X) AppleWebKit/605.1.15 (KHTML, like Gecko) Version/12.0 Mobile/15E148 Safari/604.1\"\\n}\\n'"
     },
     "execution_count": 198,
     "metadata": {},
     "output_type": "execute_result"
    }
   ],
   "source": [
    "import requests\n",
    "\n",
    "url = \"http://httpbin.org/user-agent\"\n",
    "# iPhone X Safari\n",
    "user_agent = \"Mozilla/5.0 (iPhone; CPU iPhone OS 12_0 like Mac OS X) AppleWebKit/605.1.15 (KHTML, like Gecko) Version/12.0 Mobile/15E148 Safari/604.1\"\n",
    "headers = {\n",
    "    \"User-Agent\": user_agent\n",
    "}\n",
    "requests.get(url, headers = headers).text"
   ]
  },
  {
   "cell_type": "code",
   "execution_count": 199,
   "metadata": {},
   "outputs": [
    {
     "name": "stdout",
     "output_type": "stream",
     "text": "Hello &amp;&#x27;&lt;&gt;&quot;World&quot; \n"
    }
   ],
   "source": [
    "# HTMLエスケープ\n",
    "import html\n",
    "\n",
    "data = html.escape(\"\"\" Hello &'<>\"World\" \"\"\")\n",
    "print(data)"
   ]
  },
  {
   "cell_type": "code",
   "execution_count": 200,
   "metadata": {},
   "outputs": [
    {
     "name": "stdout",
     "output_type": "stream",
     "text": "Hello \"World\" \n"
    }
   ],
   "source": [
    "# HTMLエスケープ2\n",
    "import html\n",
    "\n",
    "data = html.unescape(\"\"\" Hello &quot;World&quot; \"\"\")\n",
    "print(data)"
   ]
  },
  {
   "cell_type": "code",
   "execution_count": 201,
   "metadata": {},
   "outputs": [],
   "source": [
    "# proxyサーバ\n",
    "\n",
    "# import requests\n",
    "# proxy = {\n",
    "#     \"http\": \"http://example.com:0000\",\n",
    "#     \"https\": \"https://example.com:0000\"\n",
    "# }\n",
    "# response = requests.get(\"https://google.com\", proxies=proxy).content"
   ]
  },
  {
   "cell_type": "code",
   "execution_count": 202,
   "metadata": {},
   "outputs": [
    {
     "name": "stdout",
     "output_type": "stream",
     "text": "200\n"
    }
   ],
   "source": [
    "# status code\n",
    "import requests\n",
    "\n",
    "response = requests.get(\"http://steinsgate.tv\")\n",
    "code = response.status_code\n",
    "print(code)"
   ]
  },
  {
   "cell_type": "code",
   "execution_count": 203,
   "metadata": {},
   "outputs": [
    {
     "name": "stdout",
     "output_type": "stream",
     "text": "SHIFT_JIS\n"
    }
   ],
   "source": [
    "# char code\n",
    "import requests\n",
    "\n",
    "response = requests.get(\"https://kakaku.com/\")\n",
    "encoding = response.apparent_encoding\n",
    "print(encoding)"
   ]
  }
 ]
}