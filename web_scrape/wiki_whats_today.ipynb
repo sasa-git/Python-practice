{
 "cells": [
  {
   "cell_type": "code",
   "execution_count": 202,
   "metadata": {},
   "outputs": [],
   "source": [
    "import requests\n",
    "from bs4 import BeautifulSoup"
   ]
  },
  {
   "cell_type": "code",
   "execution_count": 203,
   "metadata": {},
   "outputs": [],
   "source": [
    "url = \"https://ja.wikipedia.org/\""
   ]
  },
  {
   "cell_type": "code",
   "execution_count": 204,
   "metadata": {},
   "outputs": [],
   "source": [
    "response = requests.get(url)"
   ]
  },
  {
   "cell_type": "code",
   "execution_count": 205,
   "metadata": {},
   "outputs": [],
   "source": [
    "soup = BeautifulSoup(response.content, \"html.parser\")"
   ]
  },
  {
   "cell_type": "code",
   "execution_count": 206,
   "metadata": {},
   "outputs": [
    {
     "name": "stdout",
     "output_type": "stream",
     "text": "\n大坂冬の陣勃発（1614年 - 慶長19年11月19日）\n伊勢暴動勃発（1876年）\n日本初の公式飛行実験（1910年）\n第一次インドシナ戦争勃発（1946年）\n原子力基本法公布（1955年）\nザンジバル王国（ザンジバル、後のタンザニアの一部）がイギリスから独立（1963年）\n村山雅美が日本人初の南極点到達（1968年）\n中英連合声明で両国が香港返還で合意（1984年）\n\n"
    }
   ],
   "source": [
    "today = soup.find(\"div\", attrs={\"id\": \"mf-itn\"})\n",
    "print(today.text)"
   ]
  },
  {
   "cell_type": "code",
   "execution_count": 207,
   "metadata": {},
   "outputs": [],
   "source": [
    "# 原始的な方法\n",
    "today_list = []\n",
    "index = 1\n",
    "entries = today.find_all(\"li\")\n",
    "for entry in entries:\n",
    "    today_list.append([index, entry.get_text()])\n",
    "    index += 1"
   ]
  },
  {
   "cell_type": "code",
   "execution_count": 208,
   "metadata": {},
   "outputs": [
    {
     "name": "stdout",
     "output_type": "stream",
     "text": "[[1, '大坂冬の陣勃発（1614年 - 慶長19年11月19日）'], [2, '伊勢暴動勃発（1876年）'], [3, '日本初の公式飛行実験（1910年）'], [4, '第一次インドシナ戦争勃発（1946年）'], [5, '原子力基本法公布（1955年）'], [6, 'ザンジバル王国（ザンジバル、後のタンザニアの一部）がイギリスから独立（1963年）'], [7, '村山雅美が日本人初の南極点到達（1968年）'], [8, '中英連合声明で両国が香港返還で合意（1984年）']]\n"
    }
   ],
   "source": [
    "print(today_list)"
   ]
  },
  {
   "cell_type": "code",
   "execution_count": 209,
   "metadata": {},
   "outputs": [],
   "source": [
    "# 次に原始的な方法\n",
    "today_list = []\n",
    "entries = today.find_all(\"li\")\n",
    "for entry in range(len(entries)):\n",
    "    today_list.append((entry, entries[entry].get_text()))"
   ]
  },
  {
   "cell_type": "code",
   "execution_count": 210,
   "metadata": {},
   "outputs": [
    {
     "name": "stdout",
     "output_type": "stream",
     "text": "[(0, '大坂冬の陣勃発（1614年 - 慶長19年11月19日）'), (1, '伊勢暴動勃発（1876年）'), (2, '日本初の公式飛行実験（1910年）'), (3, '第一次インドシナ戦争勃発（1946年）'), (4, '原子力基本法公布（1955年）'), (5, 'ザンジバル王国（ザンジバル、後のタンザニアの一部）がイギリスから独立（1963年）'), (6, '村山雅美が日本人初の南極点到達（1968年）'), (7, '中英連合声明で両国が香港返還で合意（1984年）')]\n"
    }
   ],
   "source": [
    "print(today_list)"
   ]
  },
  {
   "cell_type": "code",
   "execution_count": 211,
   "metadata": {},
   "outputs": [
    {
     "name": "stdout",
     "output_type": "stream",
     "text": "0: 大坂冬の陣勃発（1614年 - 慶長19年11月19日）\n1: 伊勢暴動勃発（1876年）\n2: 日本初の公式飛行実験（1910年）\n3: 第一次インドシナ戦争勃発（1946年）\n4: 原子力基本法公布（1955年）\n5: ザンジバル王国（ザンジバル、後のタンザニアの一部）がイギリスから独立（1963年）\n6: 村山雅美が日本人初の南極点到達（1968年）\n7: 中英連合声明で両国が香港返還で合意（1984年）\n"
    }
   ],
   "source": [
    "# 文字列のフォーマットで出力\n",
    "today_list = []\n",
    "entries = today.find_all(\"li\")\n",
    "for entry in range(len(entries)):\n",
    "    print(f\"{entry}: {entries[entry].get_text()}\")"
   ]
  },
  {
   "cell_type": "code",
   "execution_count": 212,
   "metadata": {},
   "outputs": [
    {
     "name": "stdout",
     "output_type": "stream",
     "text": "['大坂冬の陣勃発（1614年 - 慶長19年11月19日）', '伊勢暴動勃発（1876年）', '日本初の公式飛行実験（1910年）', '第一次インドシナ戦争勃発（1946年）', '原子力基本法公布（1955年）', 'ザンジバル王国（ザンジバル、後のタンザニアの一部）がイギリスから独立（1963年）', '村山雅美が日本人初の南極点到達（1968年）', '中英連合声明で両国が香港返還で合意（1984年）']\n"
    }
   ],
   "source": [
    "# 一番シンプルな方法\n",
    "today_list = []\n",
    "entries = today.find_all(\"li\")\n",
    "for entry in entries:\n",
    "    today_list.append(entry.get_text())\n",
    "print(today_list)"
   ]
  },
  {
   "cell_type": "code",
   "execution_count": 213,
   "metadata": {},
   "outputs": [
    {
     "name": "stdout",
     "output_type": "stream",
     "text": "1: 大坂冬の陣勃発（1614年 - 慶長19年11月19日） \n2: 伊勢暴動勃発（1876年） \n3: 日本初の公式飛行実験（1910年） \n4: 第一次インドシナ戦争勃発（1946年） \n5: 原子力基本法公布（1955年） \n6: ザンジバル王国（ザンジバル、後のタンザニアの一部）がイギリスから独立（1963年） \n7: 村山雅美が日本人初の南極点到達（1968年） \n8: 中英連合声明で両国が香港返還で合意（1984年） \n"
    }
   ],
   "source": [
    "# enumerate()でリストにインデックス番号をつけて取り出す関数[[0, a],[1, b],[2,c]]みたいな\n",
    "today_list = []\n",
    "entries = today.find_all(\"li\")\n",
    "for i, entry in enumerate(entries):\n",
    "    print(\"%d: %s \" % (i+1, entry.get_text()))"
   ]
  },
  {
   "cell_type": "code",
   "execution_count": 214,
   "metadata": {},
   "outputs": [],
   "source": [
    "import requests\n",
    "from bs4 import BeautifulSoup\n",
    "import csv\n",
    "\n",
    "today_list = []\n",
    "for i, entry in enumerate(entries):\n",
    "    today_list.append([i+1, entry.get_text()])\n",
    "with open(\"output.csv\", \"w\", encoding=\"UTF-8\") as file:\n",
    "    writer = csv.writer(file, lineterminator=\"\\n\")\n",
    "    writer.writerows(today_list)"
   ]
  },
  {
   "cell_type": "code",
   "execution_count": 215,
   "metadata": {},
   "outputs": [],
   "source": [
    "import re\n",
    "\n",
    "today_list = []\n",
    "for i, entry in enumerate(entries):\n",
    "    match = re.findall(\"(（.*?）)\", entry.get_text())\n",
    "    if match:\n",
    "        today_list.append([i+1, entry.get_text(), match[-1]])\n",
    "    else:\n",
    "        today_list.append([i+1, entry.get_text()])\n",
    "with open(\"output.csv\", \"w\", encoding=\"UTF-8\") as file:\n",
    "    writer = csv.writer(file, lineterminator=\"\\n\")\n",
    "    writer.writerows(today_list)"
   ]
  }
 ],
 "metadata": {
  "kernelspec": {
   "display_name": "Python 3",
   "language": "python",
   "name": "python3"
  },
  "language_info": {
   "codemirror_mode": {
    "name": "ipython",
    "version": 3
   },
   "file_extension": ".py",
   "mimetype": "text/x-python",
   "name": "python",
   "nbconvert_exporter": "python",
   "pygments_lexer": "ipython3",
   "version": "3.7.4"
  }
 },
 "nbformat": 4,
 "nbformat_minor": 2
}