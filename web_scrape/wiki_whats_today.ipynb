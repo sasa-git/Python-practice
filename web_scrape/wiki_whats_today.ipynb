{
 "cells": [
  {
   "cell_type": "code",
   "execution_count": 1,
   "metadata": {},
   "outputs": [],
   "source": [
    "import requests\n",
    "from bs4 import BeautifulSoup"
   ]
  },
  {
   "cell_type": "code",
   "execution_count": 2,
   "metadata": {},
   "outputs": [],
   "source": [
    "url = \"https://ja.wikipedia.org/\""
   ]
  },
  {
   "cell_type": "code",
   "execution_count": 3,
   "metadata": {},
   "outputs": [],
   "source": [
    "response = requests.get(url)"
   ]
  },
  {
   "cell_type": "code",
   "execution_count": 4,
   "metadata": {},
   "outputs": [],
   "source": [
    "soup = BeautifulSoup(response.content, \"html.parser\")"
   ]
  },
  {
   "cell_type": "code",
   "execution_count": 5,
   "metadata": {},
   "outputs": [
    {
     "name": "stdout",
     "output_type": "stream",
     "text": [
      "\n",
      "今日は何の日 10月20日\n",
      "\n",
      "世界骨粗鬆症デー\n",
      "ギリシャ独立戦争: ナヴァリノの海戦（1827年）\n",
      "ペルーとチリが太平洋戦争の講和条約・アンコン条約に調印（1883年）\n",
      "朝鮮戦争: 国連軍が北朝鮮の首都平壤を占領（1950年）\n",
      "代々木公園が開園。(1967年)\n",
      "日本政府が初の防衛白書（当時：防衛庁、現在の防衛省発行）を発表（1970年）\n",
      "ウォーターゲート事件: 土曜日の夜の虐殺（1973年）\n",
      "成田空港問題：10.20成田現地闘争（1985年）\n",
      "第41回衆議院議員総選挙。小選挙区比例代表並立制を導入（1996年）\n",
      "インドネシアが東ティモール併合決定を撤回（1999年）\n",
      "ムアンマル・アル＝カッザーフィー死亡（2011年）\n",
      "\n"
     ]
    }
   ],
   "source": [
    "today = soup.find(\"div\", attrs={\"id\": \"on_this_day\"})\n",
    "print(today.text)"
   ]
  },
  {
   "cell_type": "code",
   "execution_count": 6,
   "metadata": {},
   "outputs": [],
   "source": [
    "# 原始的な方法\n",
    "today_list = []\n",
    "index = 1\n",
    "entries = today.find_all(\"li\")\n",
    "for entry in entries:\n",
    "    today_list.append([index, entry.get_text()])\n",
    "    index += 1"
   ]
  },
  {
   "cell_type": "code",
   "execution_count": 7,
   "metadata": {},
   "outputs": [
    {
     "name": "stdout",
     "output_type": "stream",
     "text": [
      "[[1, '世界骨粗鬆症デー'], [2, 'ギリシャ独立戦争: ナヴァリノの海戦（1827年）'], [3, 'ペルーとチリが太平洋戦争の講和条約・アンコン条約に調印（1883年）'], [4, '朝鮮戦争: 国連軍が北朝鮮の首都平壤を占領（1950年）'], [5, '代々木公園が開園。(1967年)'], [6, '日本政府が初の防衛白書（当時：防衛庁、現在の防衛省発行）を発表（1970年）'], [7, 'ウォーターゲート事件: 土曜日の夜の虐殺（1973年）'], [8, '成田空港問題：10.20成田現地闘争（1985年）'], [9, '第41回衆議院議員総選挙。小選挙区比例代表並立制を導入（1996年）'], [10, 'インドネシアが東ティモール併合決定を撤回（1999年）'], [11, 'ムアンマル・アル＝カッザーフィー死亡（2011年）']]\n"
     ]
    }
   ],
   "source": [
    "print(today_list)"
   ]
  },
  {
   "cell_type": "code",
   "execution_count": 8,
   "metadata": {},
   "outputs": [],
   "source": [
    "# 次に原始的な方法\n",
    "today_list = []\n",
    "entries = today.find_all(\"li\")\n",
    "for entry in range(len(entries)):\n",
    "    today_list.append((entry, entries[entry].get_text()))"
   ]
  },
  {
   "cell_type": "code",
   "execution_count": 9,
   "metadata": {},
   "outputs": [
    {
     "name": "stdout",
     "output_type": "stream",
     "text": [
      "[(0, '世界骨粗鬆症デー'), (1, 'ギリシャ独立戦争: ナヴァリノの海戦（1827年）'), (2, 'ペルーとチリが太平洋戦争の講和条約・アンコン条約に調印（1883年）'), (3, '朝鮮戦争: 国連軍が北朝鮮の首都平壤を占領（1950年）'), (4, '代々木公園が開園。(1967年)'), (5, '日本政府が初の防衛白書（当時：防衛庁、現在の防衛省発行）を発表（1970年）'), (6, 'ウォーターゲート事件: 土曜日の夜の虐殺（1973年）'), (7, '成田空港問題：10.20成田現地闘争（1985年）'), (8, '第41回衆議院議員総選挙。小選挙区比例代表並立制を導入（1996年）'), (9, 'インドネシアが東ティモール併合決定を撤回（1999年）'), (10, 'ムアンマル・アル＝カッザーフィー死亡（2011年）')]\n"
     ]
    }
   ],
   "source": [
    "print(today_list)"
   ]
  },
  {
   "cell_type": "code",
   "execution_count": 10,
   "metadata": {},
   "outputs": [
    {
     "name": "stdout",
     "output_type": "stream",
     "text": [
      "0: 世界骨粗鬆症デー\n",
      "1: ギリシャ独立戦争: ナヴァリノの海戦（1827年）\n",
      "2: ペルーとチリが太平洋戦争の講和条約・アンコン条約に調印（1883年）\n",
      "3: 朝鮮戦争: 国連軍が北朝鮮の首都平壤を占領（1950年）\n",
      "4: 代々木公園が開園。(1967年)\n",
      "5: 日本政府が初の防衛白書（当時：防衛庁、現在の防衛省発行）を発表（1970年）\n",
      "6: ウォーターゲート事件: 土曜日の夜の虐殺（1973年）\n",
      "7: 成田空港問題：10.20成田現地闘争（1985年）\n",
      "8: 第41回衆議院議員総選挙。小選挙区比例代表並立制を導入（1996年）\n",
      "9: インドネシアが東ティモール併合決定を撤回（1999年）\n",
      "10: ムアンマル・アル＝カッザーフィー死亡（2011年）\n"
     ]
    }
   ],
   "source": [
    "# 文字列のフォーマットで出力\n",
    "today_list = []\n",
    "entries = today.find_all(\"li\")\n",
    "for entry in range(len(entries)):\n",
    "    print(f\"{entry}: {entries[entry].get_text()}\")"
   ]
  },
  {
   "cell_type": "code",
   "execution_count": 11,
   "metadata": {},
   "outputs": [
    {
     "name": "stdout",
     "output_type": "stream",
     "text": [
      "['世界骨粗鬆症デー', 'ギリシャ独立戦争: ナヴァリノの海戦（1827年）', 'ペルーとチリが太平洋戦争の講和条約・アンコン条約に調印（1883年）', '朝鮮戦争: 国連軍が北朝鮮の首都平壤を占領（1950年）', '代々木公園が開園。(1967年)', '日本政府が初の防衛白書（当時：防衛庁、現在の防衛省発行）を発表（1970年）', 'ウォーターゲート事件: 土曜日の夜の虐殺（1973年）', '成田空港問題：10.20成田現地闘争（1985年）', '第41回衆議院議員総選挙。小選挙区比例代表並立制を導入（1996年）', 'インドネシアが東ティモール併合決定を撤回（1999年）', 'ムアンマル・アル＝カッザーフィー死亡（2011年）']\n"
     ]
    }
   ],
   "source": [
    "# 一番シンプルな方法\n",
    "today_list = []\n",
    "entries = today.find_all(\"li\")\n",
    "for entry in entries:\n",
    "    today_list.append(entry.get_text())\n",
    "print(today_list)"
   ]
  },
  {
   "cell_type": "code",
   "execution_count": 12,
   "metadata": {},
   "outputs": [
    {
     "name": "stdout",
     "output_type": "stream",
     "text": [
      "1: 世界骨粗鬆症デー \n",
      "2: ギリシャ独立戦争: ナヴァリノの海戦（1827年） \n",
      "3: ペルーとチリが太平洋戦争の講和条約・アンコン条約に調印（1883年） \n",
      "4: 朝鮮戦争: 国連軍が北朝鮮の首都平壤を占領（1950年） \n",
      "5: 代々木公園が開園。(1967年) \n",
      "6: 日本政府が初の防衛白書（当時：防衛庁、現在の防衛省発行）を発表（1970年） \n",
      "7: ウォーターゲート事件: 土曜日の夜の虐殺（1973年） \n",
      "8: 成田空港問題：10.20成田現地闘争（1985年） \n",
      "9: 第41回衆議院議員総選挙。小選挙区比例代表並立制を導入（1996年） \n",
      "10: インドネシアが東ティモール併合決定を撤回（1999年） \n",
      "11: ムアンマル・アル＝カッザーフィー死亡（2011年） \n"
     ]
    }
   ],
   "source": [
    "# enumerate()でリストにインデックス番号をつけて取り出す関数[[0, a],[1, b],[2,c]]みたいな\n",
    "today_list = []\n",
    "entries = today.find_all(\"li\")\n",
    "for i, entry in enumerate(entries):\n",
    "    print(\"%d: %s \" % (i+1, entry.get_text()))"
   ]
  },
  {
   "cell_type": "code",
   "execution_count": 13,
   "metadata": {},
   "outputs": [],
   "source": [
    "import requests\n",
    "from bs4 import BeautifulSoup\n",
    "import csv\n",
    "\n",
    "today_list = []\n",
    "for i, entry in enumerate(entries):\n",
    "    today_list.append([i+1, entry.get_text()])\n",
    "with open(\"output.csv\", \"w\", encoding=\"UTF-8\") as file:\n",
    "    writer = csv.writer(file, lineterminator=\"\\n\")\n",
    "    writer.writerows(today_list)"
   ]
  },
  {
   "cell_type": "code",
   "execution_count": 14,
   "metadata": {},
   "outputs": [],
   "source": [
    "import re\n",
    "\n",
    "today_list = []\n",
    "for i, entry in enumerate(entries):\n",
    "    match = re.findall(\"(（.*?）)\", entry.get_text())\n",
    "    if match:\n",
    "        today_list.append([i+1, entry.get_text(), match[-1]])\n",
    "    else:\n",
    "        today_list.append([i+1, entry.get_text()])\n",
    "with open(\"output.csv\", \"w\", encoding=\"UTF-8\") as file:\n",
    "    writer = csv.writer(file, lineterminator=\"\\n\")\n",
    "    writer.writerows(today_list)"
   ]
  }
 ],
 "metadata": {
  "kernelspec": {
   "display_name": "Python 3",
   "language": "python",
   "name": "python3"
  },
  "language_info": {
   "codemirror_mode": {
    "name": "ipython",
    "version": 3
   },
   "file_extension": ".py",
   "mimetype": "text/x-python",
   "name": "python",
   "nbconvert_exporter": "python",
   "pygments_lexer": "ipython3",
   "version": "3.7.6"
  }
 },
 "nbformat": 4,
 "nbformat_minor": 2
}
