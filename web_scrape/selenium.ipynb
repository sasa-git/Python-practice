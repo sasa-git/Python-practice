{
 "metadata": {
  "language_info": {
   "codemirror_mode": {
    "name": "ipython",
    "version": 3
   },
   "file_extension": ".py",
   "mimetype": "text/x-python",
   "name": "python",
   "nbconvert_exporter": "python",
   "pygments_lexer": "ipython3",
   "version": "3.8.6-final"
  },
  "orig_nbformat": 2,
  "kernelspec": {
   "name": "python3",
   "display_name": "Python 3.8.6 64-bit ('3.8.6')",
   "metadata": {
    "interpreter": {
     "hash": "9f3d1612ed1d757156d676f5af0447f71a555aea633ff78518b4612169104897"
    }
   }
  }
 },
 "nbformat": 4,
 "nbformat_minor": 2,
 "cells": [
  {
   "cell_type": "code",
   "execution_count": 1,
   "metadata": {},
   "outputs": [],
   "source": [
    "from selenium import webdriver\n",
    "import time"
   ]
  },
  {
   "cell_type": "code",
   "execution_count": 2,
   "metadata": {},
   "outputs": [],
   "source": [
    "url = \"https://www.google.com\"\n",
    "keyword = \"スクレイピング\"\n",
    "\n",
    "driver = webdriver.Chrome()\n",
    "driver.get(url)\n",
    "time.sleep(3)\n",
    "\n",
    "search = driver.find_element_by_name(\"q\")\n",
    "search.send_keys(keyword)\n",
    "search.submit()\n",
    "\n",
    "time.sleep(3)\n",
    "driver.quit()"
   ]
  },
  {
   "cell_type": "code",
   "execution_count": 3,
   "metadata": {},
   "outputs": [
    {
     "output_type": "stream",
     "name": "stdout",
     "text": [
      "1: データ収集を大幅に効率化する「スクレイピング」とは ... \n2: ウェブスクレイピング - Wikipedia \n3: スクレイピングとは？活用事例・メリット・デメリット・導入 ... \n4: スクレイピングツール30選｜初心者でもWebデータを抽出 ... \n5: スクレイピング - Qiita \n6: 疑問に答えます！なぜWebスクレイピングを学ぶのか？ - Qiita \n7: スクレイピングとAPIの違い | NTT Communications Developer ... \n8: 【初心者向け】PythonでWebスクレイピングをしてみよう ... \n9: PythonでHTMLを解析してデータ収集してみる ... \n"
     ]
    }
   ],
   "source": [
    "from bs4 import BeautifulSoup\n",
    "\n",
    "url = \"https://www.google.com\"\n",
    "keyword = \"スクレイピング\"\n",
    "\n",
    "driver = webdriver.Chrome()\n",
    "driver.get(url)\n",
    "time.sleep(3)\n",
    "\n",
    "search = driver.find_element_by_name(\"q\")\n",
    "search.send_keys(keyword)\n",
    "search.submit()\n",
    "\n",
    "soup = BeautifulSoup(driver.page_source, \"html.parser\")\n",
    "results = soup.find_all(\"h3\", attrs={\"class\": \"LC20lb\"})\n",
    "\n",
    "for i, result in enumerate(results):\n",
    "    print(\"%d: %s \" % (i + 1, result.get_text()))\n",
    "\n",
    "time.sleep(5)\n",
    "driver.quit()"
   ]
  },
  {
   "cell_type": "code",
   "execution_count": null,
   "metadata": {},
   "outputs": [],
   "source": []
  }
 ]
}