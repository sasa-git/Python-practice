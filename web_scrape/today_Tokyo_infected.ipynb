{
 "metadata": {
  "language_info": {
   "codemirror_mode": {
    "name": "ipython",
    "version": 3
   },
   "file_extension": ".py",
   "mimetype": "text/x-python",
   "name": "python",
   "nbconvert_exporter": "python",
   "pygments_lexer": "ipython3",
   "version": "3.7.6-final"
  },
  "orig_nbformat": 2,
  "kernelspec": {
   "name": "Python 3.7.6 64-bit",
   "display_name": "Python 3.7.6 64-bit",
   "metadata": {
    "interpreter": {
     "hash": "df955ce39d0f31d56d4bb2fe0a613e5326ba60723fd33d8303a3aede8f65715c"
    }
   }
  }
 },
 "nbformat": 4,
 "nbformat_minor": 2,
 "cells": [
  {
   "cell_type": "code",
   "execution_count": 1,
   "metadata": {},
   "outputs": [],
   "source": [
    "import requests\n",
    "from bs4 import BeautifulSoup\n",
    "import re"
   ]
  },
  {
   "cell_type": "code",
   "execution_count": 2,
   "metadata": {
    "tags": []
   },
   "outputs": [
    {
     "output_type": "stream",
     "name": "stdout",
     "text": "<div class=\"cp-newsLv1\">\n<h2 class=\"md-heading\">\n<svg class=\"ls-icon\"><use xlink:href=\"/library/img/sprite.svg#circle_angle_down\"></use></svg>\n<div class=\"ls-label\">10月20日（火）のヘッドライン</div>\n</h2>\n<a class=\"md-newsItem op-sXLarge\" href=\"/newseye/tbs_newseye4106373.html\">\n<div class=\"ls-thumbnail lazy\" data-original=\"/jpg/news4106373_47.jpg?1603179558\" title=\"暴行で略式起訴の自民・石崎議員「身の処し方なるべく早く判断」\"></div>\n<div class=\"ls-title\">暴行で略式起訴の自民・石崎議員「身の処し方なるべく早く判断」</div>\n<div class=\"ls-lead\">　暴行罪で略式起訴された自民党の石崎徹衆院議員は２０日、党本部で記者団に対し、自らの進退について早期...</div>\n<div class=\"ls-time\">\n<svg class=\"ls__icon\"><use xlink:href=\"/library/img/sprite.svg#clock\"></use></svg>\n<div class=\"ls__data\">20日 15時33分</div>\n</div>\n</a>\n</div>\n"
    }
   ],
   "source": [
    "url = \"https://news.tbs.co.jp/index.html\"\n",
    "response = requests.get(url)\n",
    "soup = BeautifulSoup(response.content, \"html.parser\")\n",
    "\n",
    "today = soup.find(\"div\", attrs={\"class\": \"cp-newsLv1\"})\n",
    "print(today)"
   ]
  },
  {
   "cell_type": "code",
   "execution_count": 3,
   "metadata": {
    "tags": []
   },
   "outputs": [
    {
     "output_type": "stream",
     "name": "stdout",
     "text": "<div class=\"ls-title\">暴行で略式起訴の自民・石崎議員「身の処し方なるべく早く判断」</div>\n"
    }
   ],
   "source": [
    "entry = today.find(\"div\", attrs={\"class\": \"ls-title\"})\n",
    "print(entry)"
   ]
  },
  {
   "cell_type": "code",
   "execution_count": 4,
   "metadata": {
    "tags": []
   },
   "outputs": [],
   "source": [
    "match = re.findall(\"に(.*)人感染\", entry.string)\n",
    "if match:\n",
    "    infected_num = int(match[0])\n",
    "    print(f\"今日の都内感染者数{infected_num}人かー\")"
   ]
  },
  {
   "cell_type": "code",
   "execution_count": 5,
   "metadata": {
    "tags": []
   },
   "outputs": [
    {
     "output_type": "stream",
     "name": "stdout",
     "text": "2020-10-20 16:57:52.792395\n16\n"
    }
   ],
   "source": [
    "import datetime\n",
    "dt_now = datetime.datetime.now()\n",
    "\n",
    "print(dt_now)\n",
    "print(dt_now.hour)"
   ]
  },
  {
   "cell_type": "code",
   "execution_count": null,
   "metadata": {},
   "outputs": [],
   "source": []
  }
 ]
}